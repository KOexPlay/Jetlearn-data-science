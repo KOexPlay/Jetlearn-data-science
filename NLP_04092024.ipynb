{
 "cells": [
  {
   "cell_type": "code",
   "execution_count": 11,
   "id": "76ce40ed-ed74-448f-8709-755567e30e40",
   "metadata": {},
   "outputs": [
    {
     "name": "stderr",
     "output_type": "stream",
     "text": [
      "[nltk_data] Downloading package treebank to\n",
      "[nltk_data]     C:\\Users\\kaige\\AppData\\Roaming\\nltk_data...\n",
      "[nltk_data]   Unzipping corpora\\treebank.zip.\n"
     ]
    },
    {
     "data": {
      "text/plain": [
       "True"
      ]
     },
     "execution_count": 11,
     "metadata": {},
     "output_type": "execute_result"
    }
   ],
   "source": [
    "import nltk\n",
    "#nltk.download(\"gutenberg\")\n",
    "#nltk.download(\"genesis\")\n",
    "#nltk.download(\"inaugural\")\n",
    "#nltk.download(\"nps_chat\")\n",
    "#nltk.download('webtext')\n",
    "nltk.download('treebank')"
   ]
  },
  {
   "cell_type": "code",
   "execution_count": 12,
   "id": "b1768972-d894-492c-ba25-166ff46176d2",
   "metadata": {},
   "outputs": [
    {
     "name": "stdout",
     "output_type": "stream",
     "text": [
      "*** Introductory Examples for the NLTK Book ***\n",
      "Loading text1, ..., text9 and sent1, ..., sent9\n",
      "Type the name of the text or sentence to view it.\n",
      "Type: 'texts()' or 'sents()' to list the materials.\n",
      "text1: Moby Dick by Herman Melville 1851\n",
      "text2: Sense and Sensibility by Jane Austen 1811\n",
      "text3: The Book of Genesis\n",
      "text4: Inaugural Address Corpus\n",
      "text5: Chat Corpus\n",
      "text6: Monty Python and the Holy Grail\n",
      "text7: Wall Street Journal\n",
      "text8: Personals Corpus\n",
      "text9: The Man Who Was Thursday by G . K . Chesterton 1908\n"
     ]
    }
   ],
   "source": [
    "import nltk\n",
    "from nltk.book import *"
   ]
  },
  {
   "cell_type": "code",
   "execution_count": 16,
   "id": "a8be162b-281c-4915-ab4b-cbd4244562f7",
   "metadata": {},
   "outputs": [
    {
     "name": "stderr",
     "output_type": "stream",
     "text": [
      "[nltk_data] Downloading package wordnet to\n",
      "[nltk_data]     C:\\Users\\kaige\\AppData\\Roaming\\nltk_data...\n"
     ]
    },
    {
     "data": {
      "text/plain": [
       "True"
      ]
     },
     "execution_count": 16,
     "metadata": {},
     "output_type": "execute_result"
    }
   ],
   "source": [
    "#from nltk.corpus import gutenberg\n",
    "#nltk.download(\"punkt\")\n",
    "#nltk.download(\"stopwords\")\n",
    "nltk.download(\"wordnet\")\n"
   ]
  },
  {
   "cell_type": "markdown",
   "id": "a36a7025-6dc2-499c-8711-d442dac12c42",
   "metadata": {},
   "source": [
    "# Bag of Words"
   ]
  },
  {
   "cell_type": "code",
   "execution_count": 1,
   "id": "43caed38-45b4-4b57-ad70-28bf72037a3f",
   "metadata": {},
   "outputs": [],
   "source": [
    "import nltk \n",
    "\n",
    "paragraph = \"\"\" The concept of Knighthood may have been inspired by the ancient Greek hippeis (ἱππεῖς) and Roman equites.[3] In the Early Middle Ages \n",
    "in Christian Europe, knighthood was conferred upon mounted warriors.[4] During the High Middle Ages, knighthood was considered a class of petty \n",
    "nobility. By the Late Middle Ages, the rank had become associated with the ideals of chivalry, a code of conduct for the perfect courtly Christian \n",
    "warrior. Often, a knight was a vassal who served as an elite fighter or a bodyguard for a lord, with payment in the form of land holdings.[5] The \n",
    "lords trusted the knights, who were skilled in battle on horseback. Knighthood in the Middle Ages was closely linked with horsemanship (and especially \n",
    "the joust) from its origins in the 12th century until its final flowering as a fashion among the high nobility in the Duchy of Burgundy in the 15th \n",
    "century. This linkage is reflected in the etymology of chivalry, cavalier and related terms such as the French title chevalier. In that sense, the \n",
    "special prestige accorded to mounted warriors in Christendom finds a parallel in the furusiyya in the Islamic world. The Crusades brought various \n",
    "military orders of knights to the forefront of defending Christian pilgrims traveling to the Holy Land.[6]\n",
    "\"\"\""
   ]
  },
  {
   "cell_type": "code",
   "execution_count": 2,
   "id": "868e5852-1eca-4cc9-bc64-437b9f6f44d2",
   "metadata": {},
   "outputs": [],
   "source": [
    "# cleaning the texts\n",
    "import re \n",
    "from nltk.corpus import stopwords\n",
    "from nltk.stem.porter import PorterStemmer\n",
    "from nltk.stem import WordNetLemmatizer\n"
   ]
  },
  {
   "cell_type": "code",
   "execution_count": 10,
   "id": "eb4c55ed-70b9-47f4-bc95-faa01a226c46",
   "metadata": {},
   "outputs": [],
   "source": [
    "ps = PorterStemmer()\n",
    "wordnet =  WordNetLemmatizer()\n",
    "sentences = nltk.sent_tokenize(paragraph)\n",
    "corpus = []\n",
    "\n",
    "for i in range(len(sentences)):\n",
    "    review = re.sub('[^a-zA-Z]', ' ', sentences[i])\n",
    "    review = review.lower()\n",
    "    review = review.split()\n",
    "    review = [ps.stem(word) for word in review if not word in set(stopwords.words('english'))]\n",
    "    review = ' '.join(review)\n",
    "    corpus.append(review)"
   ]
  },
  {
   "cell_type": "code",
   "execution_count": 11,
   "id": "a92f26e6-2660-4fbd-9b22-fe80269d6562",
   "metadata": {},
   "outputs": [
    {
     "name": "stdout",
     "output_type": "stream",
     "text": [
      "['concept knighthood may inspir ancient greek hippei roman equit', 'earli middl age christian europ knighthood confer upon mount warrior', 'high middl age knighthood consid class petti nobil', 'late middl age rank becom associ ideal chivalri code conduct perfect courtli christian warrior', 'often knight vassal serv elit fighter bodyguard lord payment form land hold', 'lord trust knight skill battl horseback', 'knighthood middl age close link horsemanship especi joust origin th centuri final flower fashion among high nobil duchi burgundi th centuri', 'linkag reflect etymolog chivalri cavali relat term french titl chevali', 'sens special prestig accord mount warrior christendom find parallel furusiyya islam world', 'crusad brought variou militari order knight forefront defend christian pilgrim travel holi land', '']\n"
     ]
    }
   ],
   "source": [
    "print(corpus)"
   ]
  },
  {
   "cell_type": "code",
   "execution_count": 12,
   "id": "a820564b-89db-4779-a01b-802605ed7e74",
   "metadata": {},
   "outputs": [],
   "source": [
    "# creating the bag of words model\n",
    "from sklearn.feature_extraction.text import CountVectorizer\n",
    "cv = CountVectorizer(max_features = 1500)\n",
    "X = cv.fit_transform(corpus).toarray()"
   ]
  },
  {
   "cell_type": "code",
   "execution_count": 13,
   "id": "6005c6f9-f4d4-4b1d-98c7-4bdcc18b6b21",
   "metadata": {},
   "outputs": [
    {
     "name": "stdout",
     "output_type": "stream",
     "text": [
      "[[0 0 0 ... 0 0 0]\n",
      " [0 1 0 ... 0 1 0]\n",
      " [0 1 0 ... 0 0 0]\n",
      " ...\n",
      " [1 0 0 ... 0 1 1]\n",
      " [0 0 0 ... 0 0 0]\n",
      " [0 0 0 ... 0 0 0]]\n"
     ]
    }
   ],
   "source": [
    "print(X)"
   ]
  },
  {
   "cell_type": "markdown",
   "id": "d09adee4-6bd1-45cc-baf1-9cb2d90d9d40",
   "metadata": {},
   "source": [
    "# Lemmatization"
   ]
  },
  {
   "cell_type": "code",
   "execution_count": 14,
   "id": "e69072e4-f37d-4f6a-8635-1af21f26a693",
   "metadata": {},
   "outputs": [],
   "source": [
    "wordnet =  WordNetLemmatizer()\n",
    "sentences = nltk.sent_tokenize(paragraph)"
   ]
  },
  {
   "cell_type": "code",
   "execution_count": 17,
   "id": "c649dda7-7998-4e7d-a72c-26558e8d257a",
   "metadata": {},
   "outputs": [],
   "source": [
    "for i in range(len(sentences)):\n",
    "    words = nltk.word_tokenize(sentences[i])\n",
    "    words = [wordnet.lemmatize(word) for word in words if word not in set(stopwords.words('english'))]\n",
    "    sentences[i] = \" \".join(words)"
   ]
  },
  {
   "cell_type": "code",
   "execution_count": 19,
   "id": "e43db806-5362-45c7-b087-70191c8c4447",
   "metadata": {},
   "outputs": [
    {
     "name": "stdout",
     "output_type": "stream",
     "text": [
      "['[', '6', ']']\n"
     ]
    }
   ],
   "source": [
    "print(words)"
   ]
  },
  {
   "cell_type": "code",
   "execution_count": null,
   "id": "0935bf04-c848-43d7-aeb2-c888165e8757",
   "metadata": {},
   "outputs": [],
   "source": []
  },
  {
   "cell_type": "code",
   "execution_count": null,
   "id": "a332f650-6dec-4d5b-b1a2-ce39cea7ff27",
   "metadata": {},
   "outputs": [],
   "source": []
  }
 ],
 "metadata": {
  "kernelspec": {
   "display_name": "Python 3 (ipykernel)",
   "language": "python",
   "name": "python3"
  },
  "language_info": {
   "codemirror_mode": {
    "name": "ipython",
    "version": 3
   },
   "file_extension": ".py",
   "mimetype": "text/x-python",
   "name": "python",
   "nbconvert_exporter": "python",
   "pygments_lexer": "ipython3",
   "version": "3.11.7"
  }
 },
 "nbformat": 4,
 "nbformat_minor": 5
}
