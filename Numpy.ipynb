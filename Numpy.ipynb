{
 "cells": [
  {
   "cell_type": "code",
   "execution_count": 1,
   "id": "b434cae0-70c7-41a9-ba02-e98cc31fdf9b",
   "metadata": {},
   "outputs": [
    {
     "name": "stdout",
     "output_type": "stream",
     "text": [
      "Requirement already satisfied: numpy in c:\\users\\kaige\\anaconda3\\lib\\site-packages (1.26.4)\n",
      "Note: you may need to restart the kernel to use updated packages.\n"
     ]
    }
   ],
   "source": [
    "pip install numpy"
   ]
  },
  {
   "cell_type": "code",
   "execution_count": 2,
   "id": "29218db1-c8ae-4838-b195-4041d7a4548f",
   "metadata": {},
   "outputs": [],
   "source": [
    "import numpy as np"
   ]
  },
  {
   "cell_type": "code",
   "execution_count": 3,
   "id": "0665415f-7436-48e5-96c4-37c0af8a8835",
   "metadata": {},
   "outputs": [
    {
     "name": "stdout",
     "output_type": "stream",
     "text": [
      "1.26.4\n"
     ]
    }
   ],
   "source": [
    "print(np.__version__)"
   ]
  },
  {
   "cell_type": "code",
   "execution_count": 4,
   "id": "59926b24-90e7-4ae8-987b-7578dcce1ec0",
   "metadata": {},
   "outputs": [
    {
     "name": "stdout",
     "output_type": "stream",
     "text": [
      "['cheese' 'Kai' 'Hello']\n",
      "<class 'numpy.ndarray'>\n"
     ]
    }
   ],
   "source": [
    "array1 = np.array([\"cheese\", \"Kai\", \"Hello\"])\n",
    "print(array1)\n",
    "print(type(array1))"
   ]
  },
  {
   "cell_type": "code",
   "execution_count": 5,
   "id": "46bc5b22-2393-45c3-b0de-efffd5a15274",
   "metadata": {},
   "outputs": [
    {
     "name": "stdout",
     "output_type": "stream",
     "text": [
      "[4 6 5] <class 'numpy.ndarray'>\n"
     ]
    }
   ],
   "source": [
    "array2 = np.array((4, 6, 5))\n",
    "print(array2, type(array2))"
   ]
  },
  {
   "cell_type": "code",
   "execution_count": 6,
   "id": "418377ee-12d7-4b1c-9224-7de055360835",
   "metadata": {},
   "outputs": [
    {
     "name": "stdout",
     "output_type": "stream",
     "text": [
      "99 <class 'numpy.ndarray'> 0\n",
      "\n",
      "\n",
      "[2 3 6] <class 'numpy.ndarray'> 1\n",
      "\n",
      "\n",
      "[[2 3 6]\n",
      " [3 5 7]] <class 'numpy.ndarray'> 2\n",
      "\n",
      "\n",
      "[[[  1   2   3]\n",
      "  [ 10  20  30]]\n",
      "\n",
      " [[ 11  12  13]\n",
      "  [100 200 300]]] <class 'numpy.ndarray'> 3\n"
     ]
    }
   ],
   "source": [
    "## Arrays can be of different dimensions\n",
    "# 0D - scalar\n",
    "# 1D - \n",
    "# 2D - \n",
    "\n",
    "array0d = np.array(99)\n",
    "print(array0d, type(array0d), array0d.ndim)\n",
    "print(\"\\n\")\n",
    "\n",
    "array1d = np.array([2, 3, 6])\n",
    "print(array1d, type(array1d), array1d.ndim)\n",
    "print(\"\\n\")\n",
    "\n",
    "array2d = np.array([[2, 3, 6], [3,5,7]])\n",
    "print(array2d, type(array2d), array2d.ndim)\n",
    "print(\"\\n\")\n",
    "\n",
    "array3d = np.array([[[1, 2, 3], [10, 20, 30]], [[11, 12, 13], [100, 200, 300]]])\n",
    "print(array3d, type(array3d), array3d.ndim)"
   ]
  },
  {
   "cell_type": "code",
   "execution_count": 7,
   "id": "d6f9c6de-2d0b-4d29-82d9-39f0aadf44e3",
   "metadata": {},
   "outputs": [
    {
     "name": "stdout",
     "output_type": "stream",
     "text": [
      "the dimension of the array is...  5\n",
      "[[[[[10 20 30 40]]]]]\n"
     ]
    }
   ],
   "source": [
    "array5d = np.array([10, 20, 30, 40], ndmin=5)\n",
    "print(\"the dimension of the array is... \", array5d.ndim)\n",
    "print(array5d)"
   ]
  },
  {
   "cell_type": "code",
   "execution_count": 8,
   "id": "654b5f69-5522-4d0a-b3d7-1f167406c7c0",
   "metadata": {},
   "outputs": [],
   "source": [
    "#shape manipulation - flatten, resize, reshape, stack, split\n"
   ]
  },
  {
   "cell_type": "code",
   "execution_count": 12,
   "id": "55613239-988d-48b2-bd83-368482d2816f",
   "metadata": {},
   "outputs": [
    {
     "name": "stdout",
     "output_type": "stream",
     "text": [
      "[  1   2   3  10  20  30  11  12  13 100 200 300]\n",
      "(2, 2, 3)\n"
     ]
    }
   ],
   "source": [
    "array3d = np.array([[[1, 2, 3], [10, 20, 30]], [[11, 12, 13], [100, 200, 300]]])\n",
    "print(array3d.ravel()) ## Flatten concept"
   ]
  },
  {
   "cell_type": "code",
   "execution_count": 14,
   "id": "4bba3db3-920a-499d-8711-c44580c0f04b",
   "metadata": {},
   "outputs": [
    {
     "data": {
      "text/plain": [
       "array([[  1,   2],\n",
       "       [  3,  10],\n",
       "       [ 20,  30],\n",
       "       [ 11,  12],\n",
       "       [ 13, 100],\n",
       "       [200, 300]])"
      ]
     },
     "execution_count": 14,
     "metadata": {},
     "output_type": "execute_result"
    }
   ],
   "source": [
    "array3d.reshape(6, 2)"
   ]
  },
  {
   "cell_type": "code",
   "execution_count": 19,
   "id": "9944ac73-a5d8-4b33-aa9f-e16a590f4eca",
   "metadata": {},
   "outputs": [
    {
     "data": {
      "text/plain": [
       "[array([[[ 1,  2,  3]],\n",
       " \n",
       "        [[11, 12, 13]]]),\n",
       " array([[[ 10,  20,  30]],\n",
       " \n",
       "        [[100, 200, 300]]])]"
      ]
     },
     "execution_count": 19,
     "metadata": {},
     "output_type": "execute_result"
    }
   ],
   "source": [
    "np.hsplit(array3d, 2)"
   ]
  },
  {
   "cell_type": "code",
   "execution_count": 20,
   "id": "26e4d2f4-ea52-4579-b8d4-b777db31f037",
   "metadata": {},
   "outputs": [],
   "source": [
    "array1 = np.array([2, 4, 6, 8, 10, 12])\n",
    "array2 = np.array([1, 3, 5, 7, 9, 11])\n"
   ]
  },
  {
   "cell_type": "code",
   "execution_count": 23,
   "id": "35b57008-f5b1-4aa3-bdb6-1bc34eebe134",
   "metadata": {},
   "outputs": [
    {
     "data": {
      "text/plain": [
       "array([ 1,  3,  5,  7,  9, 11,  2,  4,  6,  8, 10, 12])"
      ]
     },
     "execution_count": 23,
     "metadata": {},
     "output_type": "execute_result"
    }
   ],
   "source": [
    "np.hstack((array2, array1))"
   ]
  },
  {
   "cell_type": "code",
   "execution_count": 26,
   "id": "a4d6bfd2-e870-41eb-aa1a-821bbd628d2e",
   "metadata": {},
   "outputs": [
    {
     "name": "stdout",
     "output_type": "stream",
     "text": [
      "[[2 3 6]\n",
      " [3 5 7]]\n",
      "\n",
      "\n",
      "[[2 3]\n",
      " [3 5]\n",
      " [6 7]]\n"
     ]
    }
   ],
   "source": [
    "array2d = np.array([[2, 3, 6], [3,5,7]])\n",
    "print(array2d)\n",
    "print(\"\\n\")\n",
    "print(array2d.transpose())"
   ]
  },
  {
   "cell_type": "code",
   "execution_count": 27,
   "id": "634db9b0-3cda-41d2-b3a5-08cbbeac30b3",
   "metadata": {},
   "outputs": [
    {
     "data": {
      "text/plain": [
       "array([[ 0.28571429, -0.14285714],\n",
       "       [-0.04761905,  0.19047619]])"
      ]
     },
     "execution_count": 27,
     "metadata": {},
     "output_type": "execute_result"
    }
   ],
   "source": [
    "inverse_array = np.array([[4, 3], [1, 6]])\n",
    "np.linalg.inv(inverse_array)\n",
    "#Given a square matrix a, return the matrix ainv satisfying dot(a, ainv) = dot(ainv, a) = eye(a.shape[0])"
   ]
  },
  {
   "cell_type": "code",
   "execution_count": 29,
   "id": "c03606c7-1b85-469c-8b58-4c86e02f3490",
   "metadata": {},
   "outputs": [
    {
     "name": "stdout",
     "output_type": "stream",
     "text": [
      "[[4 3]\n",
      " [1 6]]\n",
      "10\n"
     ]
    }
   ],
   "source": [
    "inverse_array = np.array([[4, 3], [1, 6]])\n",
    "print(inverse_array)\n",
    "print(np.trace(inverse_array)) # Trace gives you the sum of diagonal elements"
   ]
  },
  {
   "cell_type": "code",
   "execution_count": null,
   "id": "d07f8e72-14c2-4867-bc45-ae0b43468c04",
   "metadata": {},
   "outputs": [],
   "source": []
  },
  {
   "cell_type": "code",
   "execution_count": null,
   "id": "edc0766a-d288-4bce-8d52-61c8c992ca5f",
   "metadata": {},
   "outputs": [],
   "source": []
  },
  {
   "cell_type": "code",
   "execution_count": null,
   "id": "c74a6c51-57e9-485d-afb4-7f17bdae19ec",
   "metadata": {},
   "outputs": [],
   "source": []
  },
  {
   "cell_type": "code",
   "execution_count": null,
   "id": "f6ca187f-9f3c-48ee-bdea-874e16b45d1f",
   "metadata": {},
   "outputs": [],
   "source": []
  },
  {
   "cell_type": "code",
   "execution_count": null,
   "id": "1e473442-5bf0-480c-9427-a74466cd9925",
   "metadata": {},
   "outputs": [],
   "source": []
  },
  {
   "cell_type": "code",
   "execution_count": null,
   "id": "65926121-a073-4d93-9573-57a1302d0b4a",
   "metadata": {},
   "outputs": [],
   "source": []
  },
  {
   "cell_type": "code",
   "execution_count": null,
   "id": "c9a97f01-2b96-45db-8434-4e1c402b32dd",
   "metadata": {},
   "outputs": [],
   "source": []
  },
  {
   "cell_type": "code",
   "execution_count": null,
   "id": "e153f2cd-c9a4-4965-bc17-ad0427df629d",
   "metadata": {},
   "outputs": [],
   "source": []
  },
  {
   "cell_type": "code",
   "execution_count": null,
   "id": "1874bbd7-27df-4227-9828-04ec84f08c73",
   "metadata": {},
   "outputs": [],
   "source": []
  },
  {
   "cell_type": "code",
   "execution_count": null,
   "id": "0957926a-583a-4032-a6b8-89c29f984e46",
   "metadata": {},
   "outputs": [],
   "source": []
  },
  {
   "cell_type": "code",
   "execution_count": null,
   "id": "5979e787-c973-4485-992e-d5b321e71094",
   "metadata": {},
   "outputs": [],
   "source": []
  },
  {
   "cell_type": "code",
   "execution_count": null,
   "id": "3b0764a3-a7c3-41b7-b215-99d8e3a5cdf3",
   "metadata": {},
   "outputs": [],
   "source": []
  },
  {
   "cell_type": "code",
   "execution_count": null,
   "id": "8a889cec-447a-44b1-953a-649b4b926a0e",
   "metadata": {},
   "outputs": [],
   "source": []
  }
 ],
 "metadata": {
  "kernelspec": {
   "display_name": "Python 3 (ipykernel)",
   "language": "python",
   "name": "python3"
  },
  "language_info": {
   "codemirror_mode": {
    "name": "ipython",
    "version": 3
   },
   "file_extension": ".py",
   "mimetype": "text/x-python",
   "name": "python",
   "nbconvert_exporter": "python",
   "pygments_lexer": "ipython3",
   "version": "3.11.7"
  }
 },
 "nbformat": 4,
 "nbformat_minor": 5
}
