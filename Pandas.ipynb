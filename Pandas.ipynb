{
 "cells": [
  {
   "cell_type": "code",
   "execution_count": 11,
   "id": "eb1cd744-c070-4ed3-964a-c8488c441309",
   "metadata": {},
   "outputs": [],
   "source": [
    "import numpy as np\n",
    "import pandas as pd"
   ]
  },
  {
   "cell_type": "code",
   "execution_count": 5,
   "id": "3d0d000c-999b-4d13-992d-098eab05bcbf",
   "metadata": {},
   "outputs": [
    {
     "name": "stdout",
     "output_type": "stream",
     "text": [
      "0    a\n",
      "1    b\n",
      "2    c\n",
      "3    d\n",
      "4    e\n",
      "5    f\n",
      "6    g\n",
      "7    h\n",
      "dtype: object\n"
     ]
    }
   ],
   "source": [
    "first_series = pd.Series(list(\"abcdefgh\"))\n",
    "print(first_series)"
   ]
  },
  {
   "cell_type": "code",
   "execution_count": 6,
   "id": "1b1cd34c-3c94-4b14-8036-d7c578361170",
   "metadata": {},
   "outputs": [
    {
     "name": "stdout",
     "output_type": "stream",
     "text": [
      "England     3000000\n",
      "France        40000\n",
      "Japan      50000000\n",
      "Hawaii          600\n",
      "dtype: int64\n"
     ]
    }
   ],
   "source": [
    "dic_country = pd.Series([3000000, 40000, 50000000, 600], index = [\"England\", \"France\", \"Japan\", \"Hawaii\"])\n",
    "print(dic_country)"
   ]
  },
  {
   "cell_type": "code",
   "execution_count": 7,
   "id": "cf017400-c384-4cbb-a673-a05f0c370891",
   "metadata": {},
   "outputs": [
    {
     "name": "stdout",
     "output_type": "stream",
     "text": [
      "abcgfh     5.0\n",
      "zyxvr      5.0\n",
      "tyhdji     5.0\n",
      "fakhjlc    5.0\n",
      "dtype: float64\n"
     ]
    }
   ],
   "source": [
    "scalar_series = pd.Series(5., index = [\"abcgfh\", \"zyxvr\", \"tyhdji\", \"fakhjlc\"])\n",
    "print(scalar_series)"
   ]
  },
  {
   "cell_type": "code",
   "execution_count": 8,
   "id": "e5eae308-91b7-41de-9165-56e01f64eb7a",
   "metadata": {},
   "outputs": [
    {
     "name": "stdout",
     "output_type": "stream",
     "text": [
      "50000000\n",
      "5.0\n"
     ]
    },
    {
     "name": "stderr",
     "output_type": "stream",
     "text": [
      "C:\\Users\\kaige\\AppData\\Local\\Temp\\ipykernel_27364\\3510470602.py:1: FutureWarning: Series.__getitem__ treating keys as positions is deprecated. In a future version, integer keys will always be treated as labels (consistent with DataFrame behavior). To access a value by position, use `ser.iloc[pos]`\n",
      "  print(dic_country[2])\n"
     ]
    }
   ],
   "source": [
    "print(dic_country[2])\n",
    "print(scalar_series[\"zyxvr\"])"
   ]
  },
  {
   "cell_type": "code",
   "execution_count": 9,
   "id": "e6112efa-16e7-4b55-8e9f-3c7f58408933",
   "metadata": {},
   "outputs": [
    {
     "name": "stdout",
     "output_type": "stream",
     "text": [
      "a    11\n",
      "b    22\n",
      "c    33\n",
      "d    44\n",
      "dtype: int64\n"
     ]
    }
   ],
   "source": [
    "first_Vector_Series = pd.Series([1, 2, 3, 4], index = [\"a\", \"b\", \"c\", \"d\"])\n",
    "second_Vector_Series = pd.Series([10, 20, 30, 40], index = [\"a\", \"b\", \"c\", \"d\"])\n",
    "print(first_Vector_Series + second_Vector_Series)"
   ]
  },
  {
   "cell_type": "code",
   "execution_count": 10,
   "id": "06e5fb3b-883e-4273-80d4-0f342c286641",
   "metadata": {},
   "outputs": [
    {
     "name": "stdout",
     "output_type": "stream",
     "text": [
      "a    11\n",
      "b    32\n",
      "c    43\n",
      "d    24\n",
      "dtype: int64\n"
     ]
    }
   ],
   "source": [
    "second_Vector_Series = pd.Series([10, 20, 30, 40], index = [\"a\", \"d\", \"b\", \"c\"])\n",
    "print(first_Vector_Series + second_Vector_Series)"
   ]
  },
  {
   "cell_type": "code",
   "execution_count": 11,
   "id": "cd51eef3-77a9-4a0d-838b-643517c508ea",
   "metadata": {},
   "outputs": [
    {
     "name": "stdout",
     "output_type": "stream",
     "text": [
      "a    11.0\n",
      "b    22.0\n",
      "c     NaN\n",
      "d     NaN\n",
      "e     NaN\n",
      "f     NaN\n",
      "dtype: float64\n"
     ]
    }
   ],
   "source": [
    "second_Vector_Series = pd.Series([10, 20, 30, 40], index = [\"a\", \"b\", \"e\", \"f\"])\n",
    "print(first_Vector_Series + second_Vector_Series)"
   ]
  },
  {
   "cell_type": "markdown",
   "id": "6b171cd8-0322-4028-8ea6-b7c8d56c7bff",
   "metadata": {},
   "source": [
    "# creating dataframes from lists"
   ]
  },
  {
   "cell_type": "code",
   "execution_count": 12,
   "id": "02e64eb8-2db3-4984-80ae-78e67e3c5037",
   "metadata": {},
   "outputs": [],
   "source": [
    "olympic_list = {\"Host_city\" : [\"London\", \"Beijing\", \"Athens\", \"Sydney\", \"Atlanta\"], \n",
    "               \"Year\" : [2012, 2008, 2004, 2000, 1996], \n",
    "               \"Num_of_participating_countrys\" : [205, 204, 200, 201, 207]}\n",
    "\n",
    "df_olympic_list = pd.DataFrame(olympic_list)"
   ]
  },
  {
   "cell_type": "code",
   "execution_count": 13,
   "id": "dc94e06e-c3eb-454d-ae42-a76779663a7c",
   "metadata": {},
   "outputs": [
    {
     "data": {
      "text/html": [
       "<div>\n",
       "<style scoped>\n",
       "    .dataframe tbody tr th:only-of-type {\n",
       "        vertical-align: middle;\n",
       "    }\n",
       "\n",
       "    .dataframe tbody tr th {\n",
       "        vertical-align: top;\n",
       "    }\n",
       "\n",
       "    .dataframe thead th {\n",
       "        text-align: right;\n",
       "    }\n",
       "</style>\n",
       "<table border=\"1\" class=\"dataframe\">\n",
       "  <thead>\n",
       "    <tr style=\"text-align: right;\">\n",
       "      <th></th>\n",
       "      <th>Host_city</th>\n",
       "      <th>Year</th>\n",
       "      <th>Num_of_participating_countrys</th>\n",
       "    </tr>\n",
       "  </thead>\n",
       "  <tbody>\n",
       "    <tr>\n",
       "      <th>0</th>\n",
       "      <td>London</td>\n",
       "      <td>2012</td>\n",
       "      <td>205</td>\n",
       "    </tr>\n",
       "    <tr>\n",
       "      <th>1</th>\n",
       "      <td>Beijing</td>\n",
       "      <td>2008</td>\n",
       "      <td>204</td>\n",
       "    </tr>\n",
       "    <tr>\n",
       "      <th>2</th>\n",
       "      <td>Athens</td>\n",
       "      <td>2004</td>\n",
       "      <td>200</td>\n",
       "    </tr>\n",
       "    <tr>\n",
       "      <th>3</th>\n",
       "      <td>Sydney</td>\n",
       "      <td>2000</td>\n",
       "      <td>201</td>\n",
       "    </tr>\n",
       "    <tr>\n",
       "      <th>4</th>\n",
       "      <td>Atlanta</td>\n",
       "      <td>1996</td>\n",
       "      <td>207</td>\n",
       "    </tr>\n",
       "  </tbody>\n",
       "</table>\n",
       "</div>"
      ],
      "text/plain": [
       "  Host_city  Year  Num_of_participating_countrys\n",
       "0    London  2012                            205\n",
       "1   Beijing  2008                            204\n",
       "2    Athens  2004                            200\n",
       "3    Sydney  2000                            201\n",
       "4   Atlanta  1996                            207"
      ]
     },
     "execution_count": 13,
     "metadata": {},
     "output_type": "execute_result"
    }
   ],
   "source": [
    "df_olympic_list"
   ]
  },
  {
   "cell_type": "markdown",
   "id": "4cf7e79e-a618-413f-a0c9-3f22345a86d6",
   "metadata": {},
   "source": [
    "# Creating dataframe from dictionary"
   ]
  },
  {
   "cell_type": "code",
   "execution_count": 14,
   "id": "864f4752-ab9a-4646-b2e4-2e27172b51da",
   "metadata": {},
   "outputs": [
    {
     "data": {
      "text/html": [
       "<div>\n",
       "<style scoped>\n",
       "    .dataframe tbody tr th:only-of-type {\n",
       "        vertical-align: middle;\n",
       "    }\n",
       "\n",
       "    .dataframe tbody tr th {\n",
       "        vertical-align: top;\n",
       "    }\n",
       "\n",
       "    .dataframe thead th {\n",
       "        text-align: right;\n",
       "    }\n",
       "</style>\n",
       "<table border=\"1\" class=\"dataframe\">\n",
       "  <thead>\n",
       "    <tr style=\"text-align: right;\">\n",
       "      <th></th>\n",
       "      <th>London</th>\n",
       "      <th>Atlanta</th>\n",
       "    </tr>\n",
       "  </thead>\n",
       "  <tbody>\n",
       "    <tr>\n",
       "      <th>2012</th>\n",
       "      <td>205.0</td>\n",
       "      <td>NaN</td>\n",
       "    </tr>\n",
       "    <tr>\n",
       "      <th>1996</th>\n",
       "      <td>NaN</td>\n",
       "      <td>207.0</td>\n",
       "    </tr>\n",
       "  </tbody>\n",
       "</table>\n",
       "</div>"
      ],
      "text/plain": [
       "      London  Atlanta\n",
       "2012   205.0      NaN\n",
       "1996     NaN    207.0"
      ]
     },
     "execution_count": 14,
     "metadata": {},
     "output_type": "execute_result"
    }
   ],
   "source": [
    "olympic_data_dict = {\"London\" : {2012 : 205}, \"Atlanta\" : {1996 : 207}}\n",
    "\n",
    "df_olympic_data_dict = pd.DataFrame(olympic_data_dict)\n",
    "\n",
    "df_olympic_data_dict"
   ]
  },
  {
   "cell_type": "code",
   "execution_count": 15,
   "id": "16908599-79a9-4906-bc7d-a27ffdcd8d0d",
   "metadata": {},
   "outputs": [
    {
     "data": {
      "text/plain": [
       "0     London\n",
       "1    Beijing\n",
       "2     Athens\n",
       "3     Sydney\n",
       "4    Atlanta\n",
       "Name: Host_city, dtype: object"
      ]
     },
     "execution_count": 15,
     "metadata": {},
     "output_type": "execute_result"
    }
   ],
   "source": [
    "df_olympic_list.Host_city"
   ]
  },
  {
   "cell_type": "code",
   "execution_count": 16,
   "id": "5c050fee-4016-4402-901f-0a316c817178",
   "metadata": {},
   "outputs": [
    {
     "data": {
      "text/plain": [
       "<bound method NDFrame.describe of   Host_city  Year  Num_of_participating_countrys\n",
       "0    London  2012                            205\n",
       "1   Beijing  2008                            204\n",
       "2    Athens  2004                            200\n",
       "3    Sydney  2000                            201\n",
       "4   Atlanta  1996                            207>"
      ]
     },
     "execution_count": 16,
     "metadata": {},
     "output_type": "execute_result"
    }
   ],
   "source": [
    "#use describe function to display the content\n",
    "df_olympic_list.describe"
   ]
  },
  {
   "cell_type": "code",
   "execution_count": 17,
   "id": "4e5f4f7e-6d0e-4392-a5c3-c867534c683b",
   "metadata": {},
   "outputs": [
    {
     "data": {
      "text/html": [
       "<div>\n",
       "<style scoped>\n",
       "    .dataframe tbody tr th:only-of-type {\n",
       "        vertical-align: middle;\n",
       "    }\n",
       "\n",
       "    .dataframe tbody tr th {\n",
       "        vertical-align: top;\n",
       "    }\n",
       "\n",
       "    .dataframe thead th {\n",
       "        text-align: right;\n",
       "    }\n",
       "</style>\n",
       "<table border=\"1\" class=\"dataframe\">\n",
       "  <thead>\n",
       "    <tr style=\"text-align: right;\">\n",
       "      <th></th>\n",
       "      <th>Num_of_participating_countrys</th>\n",
       "      <th>Host_city</th>\n",
       "    </tr>\n",
       "  </thead>\n",
       "  <tbody>\n",
       "    <tr>\n",
       "      <th>2012</th>\n",
       "      <td>205</td>\n",
       "      <td>London</td>\n",
       "    </tr>\n",
       "    <tr>\n",
       "      <th>2008</th>\n",
       "      <td>204</td>\n",
       "      <td>Beijing</td>\n",
       "    </tr>\n",
       "    <tr>\n",
       "      <th>2004</th>\n",
       "      <td>201</td>\n",
       "      <td>Athens</td>\n",
       "    </tr>\n",
       "    <tr>\n",
       "      <th>2000</th>\n",
       "      <td>200</td>\n",
       "      <td>Sydney</td>\n",
       "    </tr>\n",
       "    <tr>\n",
       "      <th>1996</th>\n",
       "      <td>197</td>\n",
       "      <td>Atlanta</td>\n",
       "    </tr>\n",
       "  </tbody>\n",
       "</table>\n",
       "</div>"
      ],
      "text/plain": [
       "      Num_of_participating_countrys Host_city\n",
       "2012                            205    London\n",
       "2008                            204   Beijing\n",
       "2004                            201    Athens\n",
       "2000                            200    Sydney\n",
       "1996                            197   Atlanta"
      ]
     },
     "execution_count": 17,
     "metadata": {},
     "output_type": "execute_result"
    }
   ],
   "source": [
    "olympic_series_participation = pd.Series([205, 204, 201, 200, 197], index = [2012, 2008, 2004, 2000, 1996])\n",
    "olympic_series_country = pd.Series([\"London\", \"Beijing\", \"Athens\", \"Sydney\", \"Atlanta\"], index = [2012, 2008, 2004, 2000, 1996])\n",
    "\n",
    "df_olympic_series = pd.DataFrame({\"Num_of_participating_countrys\" : olympic_series_participation, \"Host_city\" : olympic_series_country})\n",
    "df_olympic_series"
   ]
  },
  {
   "cell_type": "code",
   "execution_count": null,
   "id": "761027f7-894c-460e-9dae-bc6a87f27593",
   "metadata": {},
   "outputs": [],
   "source": []
  },
  {
   "cell_type": "code",
   "execution_count": null,
   "id": "f59a2700-db22-48e7-9cfe-b6abc1b03969",
   "metadata": {},
   "outputs": [],
   "source": []
  },
  {
   "cell_type": "code",
   "execution_count": 18,
   "id": "9b664e66-0013-40ca-9d04-1685956506a3",
   "metadata": {},
   "outputs": [
    {
     "data": {
      "text/html": [
       "<div>\n",
       "<style scoped>\n",
       "    .dataframe tbody tr th:only-of-type {\n",
       "        vertical-align: middle;\n",
       "    }\n",
       "\n",
       "    .dataframe tbody tr th {\n",
       "        vertical-align: top;\n",
       "    }\n",
       "\n",
       "    .dataframe thead th {\n",
       "        text-align: right;\n",
       "    }\n",
       "</style>\n",
       "<table border=\"1\" class=\"dataframe\">\n",
       "  <thead>\n",
       "    <tr style=\"text-align: right;\">\n",
       "      <th></th>\n",
       "      <th>Year</th>\n",
       "    </tr>\n",
       "  </thead>\n",
       "  <tbody>\n",
       "    <tr>\n",
       "      <th>0</th>\n",
       "      <td>2012</td>\n",
       "    </tr>\n",
       "    <tr>\n",
       "      <th>1</th>\n",
       "      <td>2008</td>\n",
       "    </tr>\n",
       "    <tr>\n",
       "      <th>2</th>\n",
       "      <td>2004</td>\n",
       "    </tr>\n",
       "    <tr>\n",
       "      <th>3</th>\n",
       "      <td>2006</td>\n",
       "    </tr>\n",
       "  </tbody>\n",
       "</table>\n",
       "</div>"
      ],
      "text/plain": [
       "   Year\n",
       "0  2012\n",
       "1  2008\n",
       "2  2004\n",
       "3  2006"
      ]
     },
     "execution_count": 18,
     "metadata": {},
     "output_type": "execute_result"
    }
   ],
   "source": [
    "#creating dataframe from dictionary ndarray\n",
    "np_array = np.array([2012, 2008, 2004, 2006])\n",
    "dict_ndarray = {\"Year\" : np_array}\n",
    "\n",
    "df_ndarray = pd.DataFrame(dict_ndarray)\n",
    "df_ndarray"
   ]
  },
  {
   "cell_type": "code",
   "execution_count": 19,
   "id": "a07e4e4e-2799-4486-8ac5-395f83beb7da",
   "metadata": {},
   "outputs": [
    {
     "data": {
      "text/html": [
       "<div>\n",
       "<style scoped>\n",
       "    .dataframe tbody tr th:only-of-type {\n",
       "        vertical-align: middle;\n",
       "    }\n",
       "\n",
       "    .dataframe tbody tr th {\n",
       "        vertical-align: top;\n",
       "    }\n",
       "\n",
       "    .dataframe thead th {\n",
       "        text-align: right;\n",
       "    }\n",
       "</style>\n",
       "<table border=\"1\" class=\"dataframe\">\n",
       "  <thead>\n",
       "    <tr style=\"text-align: right;\">\n",
       "      <th></th>\n",
       "      <th>Num_of_participating_countrys</th>\n",
       "      <th>Host_city</th>\n",
       "    </tr>\n",
       "  </thead>\n",
       "  <tbody>\n",
       "    <tr>\n",
       "      <th>2012</th>\n",
       "      <td>205</td>\n",
       "      <td>London</td>\n",
       "    </tr>\n",
       "    <tr>\n",
       "      <th>2008</th>\n",
       "      <td>204</td>\n",
       "      <td>Beijing</td>\n",
       "    </tr>\n",
       "    <tr>\n",
       "      <th>2004</th>\n",
       "      <td>201</td>\n",
       "      <td>Athens</td>\n",
       "    </tr>\n",
       "    <tr>\n",
       "      <th>2000</th>\n",
       "      <td>200</td>\n",
       "      <td>Sydney</td>\n",
       "    </tr>\n",
       "    <tr>\n",
       "      <th>1996</th>\n",
       "      <td>197</td>\n",
       "      <td>Atlanta</td>\n",
       "    </tr>\n",
       "  </tbody>\n",
       "</table>\n",
       "</div>"
      ],
      "text/plain": [
       "      Num_of_participating_countrys Host_city\n",
       "2012                            205    London\n",
       "2008                            204   Beijing\n",
       "2004                            201    Athens\n",
       "2000                            200    Sydney\n",
       "1996                            197   Atlanta"
      ]
     },
     "execution_count": 19,
     "metadata": {},
     "output_type": "execute_result"
    }
   ],
   "source": [
    "#creating dataframe from another dataframe object\n",
    "df_from_df = pd.DataFrame(df_olympic_series)\n",
    "df_from_df"
   ]
  },
  {
   "cell_type": "markdown",
   "id": "a7eda362-3a77-49ad-a10a-92f69ffcddfa",
   "metadata": {},
   "source": [
    "# Missing Values"
   ]
  },
  {
   "cell_type": "code",
   "execution_count": 20,
   "id": "fd6d472d-7bda-4ff0-ae7c-fa874823c352",
   "metadata": {},
   "outputs": [
    {
     "data": {
      "text/plain": [
       "a     NaN\n",
       "b     NaN\n",
       "c    13.0\n",
       "d     NaN\n",
       "e    25.0\n",
       "f     NaN\n",
       "g     NaN\n",
       "h     NaN\n",
       "dtype: float64"
      ]
     },
     "execution_count": 20,
     "metadata": {},
     "output_type": "execute_result"
    }
   ],
   "source": [
    "first_series = pd.Series([1, 2, 3, 4, 5], index = [\"a\", \"b\", \"c\", \"d\", \"e\"])\n",
    "second_series = pd.Series([10, 20, 30, 40, 50], index = [\"c\", \"e\", \"f\", \"g\", \"h\"])\n",
    "\n",
    "sum_of_series = first_series + second_series\n",
    "sum_of_series"
   ]
  },
  {
   "cell_type": "code",
   "execution_count": 21,
   "id": "1679fff7-e521-434a-ac2f-e7487095cd66",
   "metadata": {},
   "outputs": [
    {
     "data": {
      "text/plain": [
       "c    13.0\n",
       "e    25.0\n",
       "dtype: float64"
      ]
     },
     "execution_count": 21,
     "metadata": {},
     "output_type": "execute_result"
    }
   ],
   "source": [
    "#dropna function drops all the NaN values from the dataset\n",
    "dropna_series = sum_of_series.dropna()\n",
    "dropna_series"
   ]
  },
  {
   "cell_type": "code",
   "execution_count": 22,
   "id": "f08f6daa-fe0d-4b6c-b7c6-eea68e7b22be",
   "metadata": {},
   "outputs": [
    {
     "data": {
      "text/plain": [
       "a     0.0\n",
       "b     0.0\n",
       "c    13.0\n",
       "d     0.0\n",
       "e    25.0\n",
       "f     0.0\n",
       "g     0.0\n",
       "h     0.0\n",
       "dtype: float64"
      ]
     },
     "execution_count": 22,
     "metadata": {},
     "output_type": "execute_result"
    }
   ],
   "source": [
    "#filling all the missing values with zero instead of dropping them\n",
    "dropna_series.fillna(0)\n",
    "fillna_series = sum_of_series.fillna(0)\n",
    "fillna_series"
   ]
  },
  {
   "cell_type": "code",
   "execution_count": 23,
   "id": "1634a42e-22d9-4a88-964d-8ed34361cc6d",
   "metadata": {},
   "outputs": [
    {
     "data": {
      "text/plain": [
       "a     1.0\n",
       "b     2.0\n",
       "c    13.0\n",
       "d     4.0\n",
       "e    25.0\n",
       "f    30.0\n",
       "g    40.0\n",
       "h    50.0\n",
       "dtype: float64"
      ]
     },
     "execution_count": 23,
     "metadata": {},
     "output_type": "execute_result"
    }
   ],
   "source": [
    "fill_series_sum = first_series.add(second_series, fill_value = 0)\n",
    "fill_series_sum"
   ]
  },
  {
   "cell_type": "markdown",
   "id": "d5d92a1f-b48c-4342-a89a-c8e91ea98858",
   "metadata": {},
   "source": [
    "# Data Operation"
   ]
  },
  {
   "cell_type": "code",
   "execution_count": 25,
   "id": "60b430b1-37cb-4735-ac8a-8f2584544edd",
   "metadata": {},
   "outputs": [
    {
     "data": {
      "text/html": [
       "<div>\n",
       "<style scoped>\n",
       "    .dataframe tbody tr th:only-of-type {\n",
       "        vertical-align: middle;\n",
       "    }\n",
       "\n",
       "    .dataframe tbody tr th {\n",
       "        vertical-align: top;\n",
       "    }\n",
       "\n",
       "    .dataframe thead th {\n",
       "        text-align: right;\n",
       "    }\n",
       "</style>\n",
       "<table border=\"1\" class=\"dataframe\">\n",
       "  <thead>\n",
       "    <tr style=\"text-align: right;\">\n",
       "      <th></th>\n",
       "      <th>movie1</th>\n",
       "      <th>movie2</th>\n",
       "    </tr>\n",
       "  </thead>\n",
       "  <tbody>\n",
       "    <tr>\n",
       "      <th>abc</th>\n",
       "      <td>1</td>\n",
       "      <td>2</td>\n",
       "    </tr>\n",
       "    <tr>\n",
       "      <th>kia</th>\n",
       "      <td>2</td>\n",
       "      <td>3</td>\n",
       "    </tr>\n",
       "    <tr>\n",
       "      <th>kai</th>\n",
       "      <td>5</td>\n",
       "      <td>5</td>\n",
       "    </tr>\n",
       "    <tr>\n",
       "      <th>bob</th>\n",
       "      <td>3</td>\n",
       "      <td>1</td>\n",
       "    </tr>\n",
       "    <tr>\n",
       "      <th>jeff</th>\n",
       "      <td>4</td>\n",
       "      <td>2</td>\n",
       "    </tr>\n",
       "    <tr>\n",
       "      <th>car</th>\n",
       "      <td>1</td>\n",
       "      <td>4</td>\n",
       "    </tr>\n",
       "  </tbody>\n",
       "</table>\n",
       "</div>"
      ],
      "text/plain": [
       "      movie1  movie2\n",
       "abc        1       2\n",
       "kia        2       3\n",
       "kai        5       5\n",
       "bob        3       1\n",
       "jeff       4       2\n",
       "car        1       4"
      ]
     },
     "execution_count": 25,
     "metadata": {},
     "output_type": "execute_result"
    }
   ],
   "source": [
    "df_movie_rating = pd.DataFrame(\n",
    "    {\"movie1\" : [1, 2, 5, 3, 4, 1],\n",
    "     \"movie2\" : [2, 3, 5, 1, 2, 4]},\n",
    "     index = [\"abc\", \"kia\", \"kai\", \"bob\", \"jeff\", \"car\"]\n",
    "    )\n",
    "df_movie_rating"
   ]
  },
  {
   "cell_type": "markdown",
   "id": "e89038af-121c-461f-993b-ebb438e21ead",
   "metadata": {},
   "source": [
    "# Applying custom functions in pandas dataframe"
   ]
  },
  {
   "cell_type": "code",
   "execution_count": 27,
   "id": "1ef884a9-16a3-462b-a58c-82559f3d7139",
   "metadata": {},
   "outputs": [
    {
     "name": "stdout",
     "output_type": "stream",
     "text": [
      "A\n"
     ]
    }
   ],
   "source": [
    "def grade(rating):\n",
    "    if rating == 5:\n",
    "        return \"A\"\n",
    "    elif rating == 4:\n",
    "        return \"B\"\n",
    "    elif rating == 3:\n",
    "        return \"C\"\n",
    "    else:\n",
    "        return \"F\"\n",
    "print(grade(5))\n"
   ]
  },
  {
   "cell_type": "code",
   "execution_count": 28,
   "id": "c4865f67-127a-4ebb-84e0-61a122d86722",
   "metadata": {},
   "outputs": [
    {
     "name": "stderr",
     "output_type": "stream",
     "text": [
      "C:\\Users\\kaige\\AppData\\Local\\Temp\\ipykernel_27364\\3005860822.py:1: FutureWarning: DataFrame.applymap has been deprecated. Use DataFrame.map instead.\n",
      "  df_movie_rating.applymap(grade)\n"
     ]
    },
    {
     "data": {
      "text/html": [
       "<div>\n",
       "<style scoped>\n",
       "    .dataframe tbody tr th:only-of-type {\n",
       "        vertical-align: middle;\n",
       "    }\n",
       "\n",
       "    .dataframe tbody tr th {\n",
       "        vertical-align: top;\n",
       "    }\n",
       "\n",
       "    .dataframe thead th {\n",
       "        text-align: right;\n",
       "    }\n",
       "</style>\n",
       "<table border=\"1\" class=\"dataframe\">\n",
       "  <thead>\n",
       "    <tr style=\"text-align: right;\">\n",
       "      <th></th>\n",
       "      <th>movie1</th>\n",
       "      <th>movie2</th>\n",
       "    </tr>\n",
       "  </thead>\n",
       "  <tbody>\n",
       "    <tr>\n",
       "      <th>abc</th>\n",
       "      <td>F</td>\n",
       "      <td>F</td>\n",
       "    </tr>\n",
       "    <tr>\n",
       "      <th>kia</th>\n",
       "      <td>F</td>\n",
       "      <td>C</td>\n",
       "    </tr>\n",
       "    <tr>\n",
       "      <th>kai</th>\n",
       "      <td>A</td>\n",
       "      <td>A</td>\n",
       "    </tr>\n",
       "    <tr>\n",
       "      <th>bob</th>\n",
       "      <td>C</td>\n",
       "      <td>F</td>\n",
       "    </tr>\n",
       "    <tr>\n",
       "      <th>jeff</th>\n",
       "      <td>B</td>\n",
       "      <td>F</td>\n",
       "    </tr>\n",
       "    <tr>\n",
       "      <th>car</th>\n",
       "      <td>F</td>\n",
       "      <td>B</td>\n",
       "    </tr>\n",
       "  </tbody>\n",
       "</table>\n",
       "</div>"
      ],
      "text/plain": [
       "     movie1 movie2\n",
       "abc       F      F\n",
       "kia       F      C\n",
       "kai       A      A\n",
       "bob       C      F\n",
       "jeff      B      F\n",
       "car       F      B"
      ]
     },
     "execution_count": 28,
     "metadata": {},
     "output_type": "execute_result"
    }
   ],
   "source": [
    "df_movie_rating.applymap(grade)"
   ]
  },
  {
   "cell_type": "code",
   "execution_count": 30,
   "id": "3db19457-1b89-49c5-8141-0cd312307e76",
   "metadata": {},
   "outputs": [
    {
     "data": {
      "text/html": [
       "<div>\n",
       "<style scoped>\n",
       "    .dataframe tbody tr th:only-of-type {\n",
       "        vertical-align: middle;\n",
       "    }\n",
       "\n",
       "    .dataframe tbody tr th {\n",
       "        vertical-align: top;\n",
       "    }\n",
       "\n",
       "    .dataframe thead th {\n",
       "        text-align: right;\n",
       "    }\n",
       "</style>\n",
       "<table border=\"1\" class=\"dataframe\">\n",
       "  <thead>\n",
       "    <tr style=\"text-align: right;\">\n",
       "      <th></th>\n",
       "      <th>test1</th>\n",
       "      <th>test2</th>\n",
       "    </tr>\n",
       "  </thead>\n",
       "  <tbody>\n",
       "    <tr>\n",
       "      <th>abc</th>\n",
       "      <td>40</td>\n",
       "      <td>54</td>\n",
       "    </tr>\n",
       "    <tr>\n",
       "      <th>kia</th>\n",
       "      <td>96</td>\n",
       "      <td>79</td>\n",
       "    </tr>\n",
       "    <tr>\n",
       "      <th>kai</th>\n",
       "      <td>50</td>\n",
       "      <td>80</td>\n",
       "    </tr>\n",
       "    <tr>\n",
       "      <th>bob</th>\n",
       "      <td>100</td>\n",
       "      <td>100</td>\n",
       "    </tr>\n",
       "    <tr>\n",
       "      <th>jeff</th>\n",
       "      <td>30</td>\n",
       "      <td>20</td>\n",
       "    </tr>\n",
       "    <tr>\n",
       "      <th>car</th>\n",
       "      <td>10</td>\n",
       "      <td>40</td>\n",
       "    </tr>\n",
       "  </tbody>\n",
       "</table>\n",
       "</div>"
      ],
      "text/plain": [
       "      test1  test2\n",
       "abc      40     54\n",
       "kia      96     79\n",
       "kai      50     80\n",
       "bob     100    100\n",
       "jeff     30     20\n",
       "car      10     40"
      ]
     },
     "execution_count": 30,
     "metadata": {},
     "output_type": "execute_result"
    }
   ],
   "source": [
    "df_test_scores = pd.DataFrame(\n",
    "    {\"test1\" : [40, 96, 50, 100, 30, 10],\n",
    "     \"test2\" : [54, 79, 80, 100, 20, 40]},\n",
    "     index = [\"abc\", \"kia\", \"kai\", \"bob\", \"jeff\", \"car\"]\n",
    "    )\n",
    "df_test_scores"
   ]
  },
  {
   "cell_type": "code",
   "execution_count": 31,
   "id": "edc8d6fe-93a7-4e58-815b-9d6f41e1ab28",
   "metadata": {},
   "outputs": [
    {
     "data": {
      "text/plain": [
       "test1    100\n",
       "test2    100\n",
       "dtype: int64"
      ]
     },
     "execution_count": 31,
     "metadata": {},
     "output_type": "execute_result"
    }
   ],
   "source": [
    "df_test_scores.max()\n"
   ]
  },
  {
   "cell_type": "code",
   "execution_count": 32,
   "id": "6dd6ff97-03a4-4267-9ce0-2c3a9fd0a0e3",
   "metadata": {},
   "outputs": [
    {
     "data": {
      "text/plain": [
       "test1    10\n",
       "test2    20\n",
       "dtype: int64"
      ]
     },
     "execution_count": 32,
     "metadata": {},
     "output_type": "execute_result"
    }
   ],
   "source": [
    "df_test_scores.min()"
   ]
  },
  {
   "cell_type": "code",
   "execution_count": 33,
   "id": "a4fee913-cf98-4ba9-9d4e-7dead768548a",
   "metadata": {},
   "outputs": [
    {
     "data": {
      "text/html": [
       "<div>\n",
       "<style scoped>\n",
       "    .dataframe tbody tr th:only-of-type {\n",
       "        vertical-align: middle;\n",
       "    }\n",
       "\n",
       "    .dataframe tbody tr th {\n",
       "        vertical-align: top;\n",
       "    }\n",
       "\n",
       "    .dataframe thead th {\n",
       "        text-align: right;\n",
       "    }\n",
       "</style>\n",
       "<table border=\"1\" class=\"dataframe\">\n",
       "  <thead>\n",
       "    <tr style=\"text-align: right;\">\n",
       "      <th></th>\n",
       "      <th>first</th>\n",
       "      <th>last</th>\n",
       "    </tr>\n",
       "  </thead>\n",
       "  <tbody>\n",
       "    <tr>\n",
       "      <th>0</th>\n",
       "      <td>kai</td>\n",
       "      <td>Gellard</td>\n",
       "    </tr>\n",
       "    <tr>\n",
       "      <th>1</th>\n",
       "      <td>john</td>\n",
       "      <td>smith</td>\n",
       "    </tr>\n",
       "    <tr>\n",
       "      <th>2</th>\n",
       "      <td>bob</td>\n",
       "      <td>callum</td>\n",
       "    </tr>\n",
       "    <tr>\n",
       "      <th>3</th>\n",
       "      <td>jeff</td>\n",
       "      <td>colgate</td>\n",
       "    </tr>\n",
       "    <tr>\n",
       "      <th>4</th>\n",
       "      <td>kai</td>\n",
       "      <td>lewis</td>\n",
       "    </tr>\n",
       "    <tr>\n",
       "      <th>5</th>\n",
       "      <td>dave</td>\n",
       "      <td>jones</td>\n",
       "    </tr>\n",
       "  </tbody>\n",
       "</table>\n",
       "</div>"
      ],
      "text/plain": [
       "  first     last\n",
       "0   kai  Gellard\n",
       "1  john    smith\n",
       "2   bob   callum\n",
       "3  jeff  colgate\n",
       "4   kai    lewis\n",
       "5  dave    jones"
      ]
     },
     "execution_count": 33,
     "metadata": {},
     "output_type": "execute_result"
    }
   ],
   "source": [
    "df_name = pd.DataFrame(\n",
    "    {\"first\" : [\"kai\", \"john\", \"bob\", \"jeff\", \"kai\", \"dave\"],\n",
    "     \"last\" : [\"Gellard\", \"smith\", \"callum\", \"colgate\", \"lewis\", \"jones\"]})\n",
    "df_name"
   ]
  },
  {
   "cell_type": "code",
   "execution_count": 36,
   "id": "9de061fd-1610-40ae-be91-b4eee5d8321e",
   "metadata": {},
   "outputs": [
    {
     "data": {
      "text/html": [
       "<div>\n",
       "<style scoped>\n",
       "    .dataframe tbody tr th:only-of-type {\n",
       "        vertical-align: middle;\n",
       "    }\n",
       "\n",
       "    .dataframe tbody tr th {\n",
       "        vertical-align: top;\n",
       "    }\n",
       "\n",
       "    .dataframe thead th {\n",
       "        text-align: right;\n",
       "    }\n",
       "</style>\n",
       "<table border=\"1\" class=\"dataframe\">\n",
       "  <thead>\n",
       "    <tr style=\"text-align: right;\">\n",
       "      <th></th>\n",
       "      <th>first</th>\n",
       "      <th>last</th>\n",
       "    </tr>\n",
       "  </thead>\n",
       "  <tbody>\n",
       "    <tr>\n",
       "      <th>0</th>\n",
       "      <td>kai</td>\n",
       "      <td>Gellard</td>\n",
       "    </tr>\n",
       "    <tr>\n",
       "      <th>4</th>\n",
       "      <td>kai</td>\n",
       "      <td>lewis</td>\n",
       "    </tr>\n",
       "  </tbody>\n",
       "</table>\n",
       "</div>"
      ],
      "text/plain": [
       "  first     last\n",
       "0   kai  Gellard\n",
       "4   kai    lewis"
      ]
     },
     "execution_count": 36,
     "metadata": {},
     "output_type": "execute_result"
    }
   ],
   "source": [
    "group_first = df_name.groupby(\"first\")\n",
    "\n",
    "group_data = group_first.get_group(\"kai\")\n",
    "group_data"
   ]
  },
  {
   "cell_type": "code",
   "execution_count": 37,
   "id": "73f6212d-2346-4cf5-a796-96a634a74cc8",
   "metadata": {},
   "outputs": [
    {
     "data": {
      "text/html": [
       "<div>\n",
       "<style scoped>\n",
       "    .dataframe tbody tr th:only-of-type {\n",
       "        vertical-align: middle;\n",
       "    }\n",
       "\n",
       "    .dataframe tbody tr th {\n",
       "        vertical-align: top;\n",
       "    }\n",
       "\n",
       "    .dataframe thead th {\n",
       "        text-align: right;\n",
       "    }\n",
       "</style>\n",
       "<table border=\"1\" class=\"dataframe\">\n",
       "  <thead>\n",
       "    <tr style=\"text-align: right;\">\n",
       "      <th></th>\n",
       "      <th>first</th>\n",
       "      <th>last</th>\n",
       "    </tr>\n",
       "  </thead>\n",
       "  <tbody>\n",
       "    <tr>\n",
       "      <th>2</th>\n",
       "      <td>bob</td>\n",
       "      <td>callum</td>\n",
       "    </tr>\n",
       "    <tr>\n",
       "      <th>5</th>\n",
       "      <td>dave</td>\n",
       "      <td>jones</td>\n",
       "    </tr>\n",
       "    <tr>\n",
       "      <th>3</th>\n",
       "      <td>jeff</td>\n",
       "      <td>colgate</td>\n",
       "    </tr>\n",
       "    <tr>\n",
       "      <th>1</th>\n",
       "      <td>john</td>\n",
       "      <td>smith</td>\n",
       "    </tr>\n",
       "    <tr>\n",
       "      <th>0</th>\n",
       "      <td>kai</td>\n",
       "      <td>Gellard</td>\n",
       "    </tr>\n",
       "    <tr>\n",
       "      <th>4</th>\n",
       "      <td>kai</td>\n",
       "      <td>lewis</td>\n",
       "    </tr>\n",
       "  </tbody>\n",
       "</table>\n",
       "</div>"
      ],
      "text/plain": [
       "  first     last\n",
       "2   bob   callum\n",
       "5  dave    jones\n",
       "3  jeff  colgate\n",
       "1  john    smith\n",
       "0   kai  Gellard\n",
       "4   kai    lewis"
      ]
     },
     "execution_count": 37,
     "metadata": {},
     "output_type": "execute_result"
    }
   ],
   "source": [
    "df_name.sort_values(\"first\")"
   ]
  },
  {
   "cell_type": "markdown",
   "id": "91eebef7-fc34-43f7-a7fc-16ebf402bd4d",
   "metadata": {},
   "source": [
    "# Pandas SQL operation"
   ]
  },
  {
   "cell_type": "code",
   "execution_count": 1,
   "id": "a42bf333-358a-4275-a99e-6bb86e21ff61",
   "metadata": {},
   "outputs": [],
   "source": [
    "import sqlite3"
   ]
  },
  {
   "cell_type": "code",
   "execution_count": 2,
   "id": "0e37922b-a73e-4eeb-bf24-0fffa41710b8",
   "metadata": {},
   "outputs": [],
   "source": [
    "create_table = \"\"\"\n",
    "CREATE TABLE student_score\n",
    "(ID INTERGER, NAME VARCHAR (20), Math REAL, Science REAL);\n",
    "\"\"\""
   ]
  },
  {
   "cell_type": "code",
   "execution_count": 3,
   "id": "d560d3a1-54ee-4f6f-81ba-5a42e450b723",
   "metadata": {},
   "outputs": [],
   "source": [
    "#executing SQL statement \n",
    "executeSQL = sqlite3.connect(\":memory:\")\n",
    "executeSQL.execute(create_table)\n",
    "executeSQL.commit()"
   ]
  },
  {
   "cell_type": "code",
   "execution_count": 4,
   "id": "aec36bbe-1279-414f-a3dc-89cba651ea3a",
   "metadata": {},
   "outputs": [],
   "source": [
    "SQL_query = executeSQL.execute(\"select * from student_score\")"
   ]
  },
  {
   "cell_type": "code",
   "execution_count": 5,
   "id": "131fd000-0630-45a9-809a-8b14db8feeaf",
   "metadata": {},
   "outputs": [],
   "source": [
    "#fetch result from the sqlite database\n",
    "resultset = SQL_query.fetchall()"
   ]
  },
  {
   "cell_type": "code",
   "execution_count": 6,
   "id": "9525adb3-1225-4f8f-b719-40778dce3bdf",
   "metadata": {},
   "outputs": [],
   "source": [
    "insertSQL = [(10, \"Kai\", 99.5, 98.9), \n",
    "             (12, \"John\", 44.6, 79.7),\n",
    "             (6, \"daisy\", 98.5, 32.4),\n",
    "             (11, \"Dave\", 56.1, 67.3),\n",
    "             (2, \"Maisey\", 56.2, 12.3)\n",
    "            ]"
   ]
  },
  {
   "cell_type": "code",
   "execution_count": 7,
   "id": "97585894-4bf6-4551-9be2-ec8ed9ec5ce1",
   "metadata": {},
   "outputs": [],
   "source": [
    "insert_statement = \"insert into student_score values (?, ?, ?, ?)\"\n",
    "executeSQL.executemany(insert_statement, insertSQL)\n",
    "executeSQL.commit()"
   ]
  },
  {
   "cell_type": "code",
   "execution_count": 8,
   "id": "d3cf3df7-6f4f-432a-bd40-8b8066f6f1d3",
   "metadata": {},
   "outputs": [],
   "source": [
    "SQL_query = executeSQL.execute(\"select * from student_score\")"
   ]
  },
  {
   "cell_type": "code",
   "execution_count": 9,
   "id": "822a5c60-caa7-4dd2-b9aa-f29ac92afd00",
   "metadata": {},
   "outputs": [
    {
     "data": {
      "text/plain": [
       "[(10, 'Kai', 99.5, 98.9),\n",
       " (12, 'John', 44.6, 79.7),\n",
       " (6, 'daisy', 98.5, 32.4),\n",
       " (11, 'Dave', 56.1, 67.3),\n",
       " (2, 'Maisey', 56.2, 12.3)]"
      ]
     },
     "execution_count": 9,
     "metadata": {},
     "output_type": "execute_result"
    }
   ],
   "source": [
    "resultset = SQL_query.fetchall()\n",
    "resultset"
   ]
  },
  {
   "cell_type": "code",
   "execution_count": 17,
   "id": "b3bd0322-821f-49b9-9b6d-9f3d03643ec8",
   "metadata": {},
   "outputs": [
    {
     "data": {
      "text/html": [
       "<div>\n",
       "<style scoped>\n",
       "    .dataframe tbody tr th:only-of-type {\n",
       "        vertical-align: middle;\n",
       "    }\n",
       "\n",
       "    .dataframe tbody tr th {\n",
       "        vertical-align: top;\n",
       "    }\n",
       "\n",
       "    .dataframe thead th {\n",
       "        text-align: right;\n",
       "    }\n",
       "</style>\n",
       "<table border=\"1\" class=\"dataframe\">\n",
       "  <thead>\n",
       "    <tr style=\"text-align: right;\">\n",
       "      <th></th>\n",
       "      <th>ID</th>\n",
       "      <th>NAME</th>\n",
       "      <th>Math</th>\n",
       "      <th>Science</th>\n",
       "    </tr>\n",
       "  </thead>\n",
       "  <tbody>\n",
       "    <tr>\n",
       "      <th>0</th>\n",
       "      <td>10</td>\n",
       "      <td>Kai</td>\n",
       "      <td>99.5</td>\n",
       "      <td>98.9</td>\n",
       "    </tr>\n",
       "    <tr>\n",
       "      <th>1</th>\n",
       "      <td>12</td>\n",
       "      <td>John</td>\n",
       "      <td>44.6</td>\n",
       "      <td>79.7</td>\n",
       "    </tr>\n",
       "    <tr>\n",
       "      <th>2</th>\n",
       "      <td>6</td>\n",
       "      <td>daisy</td>\n",
       "      <td>98.5</td>\n",
       "      <td>32.4</td>\n",
       "    </tr>\n",
       "    <tr>\n",
       "      <th>3</th>\n",
       "      <td>11</td>\n",
       "      <td>Dave</td>\n",
       "      <td>56.1</td>\n",
       "      <td>67.3</td>\n",
       "    </tr>\n",
       "    <tr>\n",
       "      <th>4</th>\n",
       "      <td>2</td>\n",
       "      <td>Maisey</td>\n",
       "      <td>56.2</td>\n",
       "      <td>12.3</td>\n",
       "    </tr>\n",
       "  </tbody>\n",
       "</table>\n",
       "</div>"
      ],
      "text/plain": [
       "   ID    NAME  Math  Science\n",
       "0  10     Kai  99.5     98.9\n",
       "1  12    John  44.6     79.7\n",
       "2   6   daisy  98.5     32.4\n",
       "3  11    Dave  56.1     67.3\n",
       "4   2  Maisey  56.2     12.3"
      ]
     },
     "execution_count": 17,
     "metadata": {},
     "output_type": "execute_result"
    }
   ],
   "source": [
    "# Storing the sql query result in the form of a dataframe\n",
    "df_student_records = pd.DataFrame(resultset, columns = [\"ID\", \"NAME\", \"Math\", \"Science\"])\n",
    "df_student_records"
   ]
  },
  {
   "cell_type": "code",
   "execution_count": null,
   "id": "1772b2f8-b6a8-4194-8d67-db0fab270f36",
   "metadata": {},
   "outputs": [],
   "source": []
  },
  {
   "cell_type": "code",
   "execution_count": null,
   "id": "d9ba8af8-7a90-42b5-b00f-3e48509103e7",
   "metadata": {},
   "outputs": [],
   "source": []
  },
  {
   "cell_type": "code",
   "execution_count": null,
   "id": "c453076e-1d65-434e-81a1-51d9918bf927",
   "metadata": {},
   "outputs": [],
   "source": []
  },
  {
   "cell_type": "code",
   "execution_count": null,
   "id": "44129ca3-f347-475b-b527-e840d79a7afc",
   "metadata": {},
   "outputs": [],
   "source": []
  },
  {
   "cell_type": "code",
   "execution_count": null,
   "id": "393e63ba-9331-4b71-85ff-908080c25b78",
   "metadata": {},
   "outputs": [],
   "source": []
  },
  {
   "cell_type": "code",
   "execution_count": null,
   "id": "0c90cb6a-0045-4139-a2d4-937a383d613e",
   "metadata": {},
   "outputs": [],
   "source": []
  },
  {
   "cell_type": "code",
   "execution_count": null,
   "id": "2caf2453-69ed-476c-b637-94b11f818305",
   "metadata": {},
   "outputs": [],
   "source": []
  },
  {
   "cell_type": "code",
   "execution_count": null,
   "id": "84b7bd13-2826-4b08-b94c-d947d18e798f",
   "metadata": {},
   "outputs": [],
   "source": []
  },
  {
   "cell_type": "code",
   "execution_count": null,
   "id": "8ec8ceaa-3242-4881-a75d-9e2ac5f2447f",
   "metadata": {},
   "outputs": [],
   "source": []
  },
  {
   "cell_type": "code",
   "execution_count": null,
   "id": "45be4fd6-5b50-4e5a-8ace-e82b142ed6a7",
   "metadata": {},
   "outputs": [],
   "source": []
  },
  {
   "cell_type": "code",
   "execution_count": null,
   "id": "31a445e2-3d69-4c6a-9f9b-8198891fc64a",
   "metadata": {},
   "outputs": [],
   "source": []
  },
  {
   "cell_type": "code",
   "execution_count": null,
   "id": "ce9ff310-fcc8-467e-bc3e-8d7d9ad61eb1",
   "metadata": {},
   "outputs": [],
   "source": []
  },
  {
   "cell_type": "code",
   "execution_count": null,
   "id": "d9f54f23-0a5a-4ef9-bb71-5ae1eda9cd2d",
   "metadata": {},
   "outputs": [],
   "source": []
  }
 ],
 "metadata": {
  "kernelspec": {
   "display_name": "Python 3 (ipykernel)",
   "language": "python",
   "name": "python3"
  },
  "language_info": {
   "codemirror_mode": {
    "name": "ipython",
    "version": 3
   },
   "file_extension": ".py",
   "mimetype": "text/x-python",
   "name": "python",
   "nbconvert_exporter": "python",
   "pygments_lexer": "ipython3",
   "version": "3.11.7"
  }
 },
 "nbformat": 4,
 "nbformat_minor": 5
}
