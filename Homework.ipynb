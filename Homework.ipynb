{
 "cells": [
  {
   "cell_type": "code",
   "execution_count": 2,
   "id": "badda8f7-703e-4da1-bc6e-ed2f95a2de37",
   "metadata": {},
   "outputs": [],
   "source": [
    "import numpy as np\n",
    "import pandas as pd"
   ]
  },
  {
   "cell_type": "code",
   "execution_count": 3,
   "id": "e4c07803-ddc9-4323-96a3-ac05df30d080",
   "metadata": {},
   "outputs": [
    {
     "name": "stdout",
     "output_type": "stream",
     "text": [
      "[[[[  1   2  -3]\n",
      "   [  4   5 600]\n",
      "   [  7   8   9]\n",
      "   [ 10  11  12]]]]\n",
      "The biggest number in this array is...  600 !\n",
      "The smallest number in this array is...  -3 !\n"
     ]
    }
   ],
   "source": [
    "array4d = np.array([[[[1, 2, -3], [4, 5, 600], [7, 8, 9], [10, 11, 12]]]])\n",
    "maxnum = np.max(array4d)\n",
    "minnum = np.min(array4d)\n",
    "#print(array4d.ndim)\n",
    "print(array4d)\n",
    "print(\"The biggest number in this array is... \" ,maxnum, '!')\n",
    "print(\"The smallest number in this array is... \" ,minnum, '!')"
   ]
  },
  {
   "cell_type": "code",
   "execution_count": 10,
   "id": "d4bf97c1-c2c4-4fe7-9393-42878ff189dc",
   "metadata": {},
   "outputs": [
    {
     "name": "stdin",
     "output_type": "stream",
     "text": [
      "Enter the statement:  word chheee\n"
     ]
    },
    {
     "name": "stdout",
     "output_type": "stream",
     "text": [
      "The sorted words are:\n",
      "chheee\n",
      "word\n"
     ]
    }
   ],
   "source": [
    "# Write a python program to sort words in alphabetical order\n",
    "#series1 = pd.Series([\"John\", \"Marc\", \"David\", \"Bob\"])\n",
    "#series1_re_ordered = series1.sort_values(ascending=True)\n",
    "#series1_re_ordered\n",
    "\n",
    "# Modify the above program in order to accept a statement as an input from the user, based on that you sort and display in alphabetical order\n",
    "user = input(\"Enter the statement: \")\n",
    "words = [word.lower() for word in user.split()]\n",
    "words.sort()\n",
    "\n",
    "# display the sorted words\n",
    "\n",
    "print(\"The sorted words are:\")\n",
    "for word in words:\n",
    "   print(word)\n"
   ]
  },
  {
   "cell_type": "code",
   "execution_count": 11,
   "id": "3e37d0cb-7b82-4998-8711-0f6e7327e04d",
   "metadata": {},
   "outputs": [
    {
     "ename": "NameError",
     "evalue": "name 'series1' is not defined",
     "output_type": "error",
     "traceback": [
      "\u001b[1;31m---------------------------------------------------------------------------\u001b[0m",
      "\u001b[1;31mNameError\u001b[0m                                 Traceback (most recent call last)",
      "Cell \u001b[1;32mIn[11], line 2\u001b[0m\n\u001b[0;32m      1\u001b[0m \u001b[38;5;66;03m#opposite direction \u001b[39;00m\n\u001b[1;32m----> 2\u001b[0m series2_re_ordered \u001b[38;5;241m=\u001b[39m series1\u001b[38;5;241m.\u001b[39msort_values(ascending\u001b[38;5;241m=\u001b[39m\u001b[38;5;28;01mFalse\u001b[39;00m)\n\u001b[0;32m      3\u001b[0m series2_re_ordered\n",
      "\u001b[1;31mNameError\u001b[0m: name 'series1' is not defined"
     ]
    }
   ],
   "source": [
    "#opposite direction \n",
    "series2_re_ordered = series1.sort_values(ascending=False)\n",
    "series2_re_ordered"
   ]
  },
  {
   "cell_type": "markdown",
   "id": "a1aa6799-41f9-44ba-bfe9-a580ccf7e9d5",
   "metadata": {},
   "source": [
    "# Write a python program to test if a variable is a list, tuple or a set"
   ]
  },
  {
   "cell_type": "code",
   "execution_count": 13,
   "id": "ac7a16ac-e1bf-451b-baf3-b9c2f6ab65f0",
   "metadata": {},
   "outputs": [
    {
     "name": "stdout",
     "output_type": "stream",
     "text": [
      "<class 'list'>\n",
      "<class 'tuple'>\n",
      "<class 'set'>\n"
     ]
    }
   ],
   "source": [
    "thing1 = [1, 2, 3, 4]\n",
    "thing2 = (1, 2, 3, 4)\n",
    "thing3 = {1, 2, 3, 4}\n",
    "def what_is_it(thing):\n",
    "    thang = type(thing)\n",
    "    return thang\n",
    "print(what_is_it(thing1))\n",
    "print(what_is_it(thing2))\n",
    "print(what_is_it(thing3))\n"
   ]
  },
  {
   "cell_type": "code",
   "execution_count": 3,
   "id": "4306897e-2ee9-42a1-93cb-4b57b1fdeca9",
   "metadata": {},
   "outputs": [
    {
     "data": {
      "text/plain": [
       "17        5 of Diamonds\n",
       "34           9 of Clubs\n",
       "5           6 of Hearts\n",
       "10       Jack of Hearts\n",
       "25     King of Diamonds\n",
       "dtype: object"
      ]
     },
     "execution_count": 3,
     "metadata": {},
     "output_type": "execute_result"
    }
   ],
   "source": [
    "# Write a python program to shuffle cards\n",
    "\n",
    "deck_of_cards = pd.Series([\"Ace of Hearts\",\n",
    "\" 2 of Hearts\",\n",
    "\" 3 of Hearts\",\n",
    "\" 4 of Hearts\",\n",
    "\" 5 of Hearts\",\n",
    "\" 6 of Hearts\",\n",
    "\" 7 of Hearts\",\n",
    "\" 8 of Hearts\",\n",
    "\" 9 of Hearts\",\n",
    "\" 10 of Hearts\",\n",
    "\" Jack of Hearts\",\n",
    "\" Queen of Hearts\",\n",
    "\" King of Hearts\",\n",
    "                             \" Ace of Diamonds\",\n",
    "\" 2 of Diamonds\",\n",
    "\" 3 of Diamonds\",\n",
    "\" 4 of Diamonds\",\n",
    "\" 5 of Diamonds\",\n",
    "\" 6 of Diamonds\",\n",
    "\" 7 of Diamonds\",\n",
    "\" 8 of Diamonds\",\n",
    "\" 9 of Diamonds\",\n",
    "\" 10 of Diamonds\",\n",
    "\" Jack of Diamonds\",\n",
    "\" Queen of Diamonds\",\n",
    "\" King of Diamonds\",\n",
    "                             \" Ace of Clubs\",\n",
    "\" 2 of Clubs\",\n",
    "\" 3 of Clubs\",\n",
    "\" 4 of Clubs\",\n",
    "\" 5 of Clubs\",\n",
    "\" 6 of Clubs\",\n",
    "\" 7 of Clubs\",\n",
    "\" 8 of Clubs\",\n",
    "\" 9 of Clubs\",\n",
    "\" 10 of Clubs\",\n",
    "\" Jack of Clubs\",\n",
    "\" Queen of Clubs\",\n",
    "\" King of Clubs\",\n",
    "                             \" Ace of Spades\",\n",
    "\" 2 of Spades\",\n",
    "\" 3 of Spades\",\n",
    "\" 4 of Spades\",\n",
    "\" 5 of Spades\",\n",
    "\" 6 of Spades\",\n",
    "\" 7 of Spades\",\n",
    "\" 8 of Spades\",\n",
    "\" 9 of Spades\",\n",
    "\" 10 of Spades\",\n",
    "\" Jack of Spades\",\n",
    "\" Queen of Spades\",\n",
    "\" King of Spades\"])\n",
    "#program\n",
    "shuffled = deck_of_cards.sample(5)\n",
    "shuffled"
   ]
  },
  {
   "cell_type": "code",
   "execution_count": 7,
   "id": "b3c2d2d6-e9f3-4aa9-810a-c95679745e90",
   "metadata": {},
   "outputs": [
    {
     "name": "stdout",
     "output_type": "stream",
     "text": [
      "You got:\n",
      "5 of Diamonds\n",
      "10 of Hearts\n",
      "1 of Clubs\n",
      "3 of Diamonds\n",
      "11 of Hearts\n"
     ]
    }
   ],
   "source": [
    "import random, itertools\n",
    "\n",
    "deck = list(itertools.product(range(1, 14), [\"Spades\", \"Clubs\", \"Hearts\", \"Diamonds\"]))\n",
    "random.shuffle(deck)\n",
    "\n",
    "# draw five cards\n",
    "print(\"You got:\")\n",
    "for i in range(5):\n",
    "   print(deck[i][0], \"of\", deck[i][1])\n"
   ]
  },
  {
   "cell_type": "markdown",
   "id": "b5db9936-1c89-47ee-93f1-7d634780e445",
   "metadata": {},
   "source": [
    "# Square even and odd numbers"
   ]
  },
  {
   "cell_type": "code",
   "execution_count": 4,
   "id": "950e00c4-7f7e-4b50-921d-13c0e75b4110",
   "metadata": {},
   "outputs": [],
   "source": [
    "import random\n"
   ]
  },
  {
   "cell_type": "code",
   "execution_count": 52,
   "id": "1b644b64-fd26-4687-a646-0f769d7d0043",
   "metadata": {},
   "outputs": [
    {
     "name": "stdout",
     "output_type": "stream",
     "text": [
      "[4, 1, 3, 10, 18, 2, 4, 16, 2, 1]\n",
      "\n",
      "\n",
      "[16, 100, 324, 4, 16, 256, 4]\n",
      "\n",
      "\n",
      "[1, 9, 1]\n"
     ]
    }
   ],
   "source": [
    "evenList = []\n",
    "oddList = []\n",
    "list = [0]*10\n",
    "\n",
    "for i in range(len(list)):\n",
    "    randNum = random.randint(1, 20)\n",
    "    list[i] = randNum\n",
    "\n",
    "\n",
    "for num in range(len(list)):\n",
    "    if list[num] % 2 == 0:\n",
    "        evenList.append(list[num])\n",
    "    else:\n",
    "        oddList.append(list[num])\n",
    "\n",
    "for num in range(len(evenList)):\n",
    "    evNum = evenList[num] * evenList[num] #squares number\n",
    "    evenList[num] = evNum\n",
    "\n",
    "for num in range(len(oddList)):\n",
    "    oddNum = oddList[num] * oddList[num]\n",
    "    oddList[num] = oddNum\n",
    "    \n",
    "\n",
    "print(list)\n",
    "print(\"\\n\")\n",
    "print(evenList)\n",
    "print(\"\\n\")\n",
    "print(oddList)        "
   ]
  },
  {
   "cell_type": "markdown",
   "id": "35c558a7-97d5-4fb5-8778-50791a922ad6",
   "metadata": {},
   "source": [
    "# Student Marks"
   ]
  },
  {
   "cell_type": "code",
   "execution_count": 55,
   "id": "0c15d4b9-52c8-4e80-9a9b-431fa21058d3",
   "metadata": {},
   "outputs": [
    {
     "name": "stdout",
     "output_type": "stream",
     "text": [
      "[92, 19, 9, 88, 38, 98, 5, 41, 1, 11, 90, 26, 17, 40, 13, 90, 56, 32, 72, 62]\n",
      "\n",
      "\n",
      "[92, 88, 98, 90, 90, 72]\n",
      "[38, 41, 40, 56, 32, 62]\n",
      "[19, 9, 5, 1, 11, 26, 17, 13]\n"
     ]
    }
   ],
   "source": [
    "studentMarks = [0]*20\n",
    "Pass = []\n",
    "reTry = []\n",
    "fail = []\n",
    "\n",
    "for i in range(len(studentMarks)):\n",
    "    randNum = random.randint(0, 100)\n",
    "    studentMarks[i] = randNum\n",
    "\n",
    "for grade in range(len(studentMarks)):\n",
    "    if studentMarks[grade] <= 30:\n",
    "        fail.append(studentMarks[grade])\n",
    "    elif studentMarks[grade] >= 31 and studentMarks[grade] <= 69:\n",
    "        reTry.append(studentMarks[grade])\n",
    "    else:\n",
    "        Pass.append(studentMarks[grade])\n",
    "\n",
    "print(studentMarks)\n",
    "print(\"\\n\")\n",
    "print(Pass)\n",
    "print(reTry)\n",
    "print(fail)\n",
    "    "
   ]
  },
  {
   "cell_type": "code",
   "execution_count": null,
   "id": "552073a3-965e-46f1-a525-3f0fdd2f5156",
   "metadata": {},
   "outputs": [],
   "source": []
  },
  {
   "cell_type": "code",
   "execution_count": null,
   "id": "0d6ab00b-8045-4289-b9c6-487f6edf238b",
   "metadata": {},
   "outputs": [],
   "source": []
  },
  {
   "cell_type": "code",
   "execution_count": null,
   "id": "52f256ba-2085-4565-b9fc-6e886e84c820",
   "metadata": {},
   "outputs": [],
   "source": []
  },
  {
   "cell_type": "code",
   "execution_count": null,
   "id": "f50190b1-e0b8-4326-a6c9-21fd20357188",
   "metadata": {},
   "outputs": [],
   "source": []
  },
  {
   "cell_type": "code",
   "execution_count": null,
   "id": "38246caa-7945-4654-8d5a-5dbf9b832213",
   "metadata": {},
   "outputs": [],
   "source": []
  },
  {
   "cell_type": "code",
   "execution_count": null,
   "id": "3437b302-ccea-4a67-8991-643350f4e040",
   "metadata": {},
   "outputs": [],
   "source": []
  },
  {
   "cell_type": "code",
   "execution_count": null,
   "id": "c9d0a8a5-7cd1-4161-abac-2a1cb8195a8b",
   "metadata": {},
   "outputs": [],
   "source": []
  },
  {
   "cell_type": "code",
   "execution_count": null,
   "id": "2c1c4449-cf7f-46e6-b656-91242376c258",
   "metadata": {},
   "outputs": [],
   "source": []
  }
 ],
 "metadata": {
  "kernelspec": {
   "display_name": "Python 3 (ipykernel)",
   "language": "python",
   "name": "python3"
  },
  "language_info": {
   "codemirror_mode": {
    "name": "ipython",
    "version": 3
   },
   "file_extension": ".py",
   "mimetype": "text/x-python",
   "name": "python",
   "nbconvert_exporter": "python",
   "pygments_lexer": "ipython3",
   "version": "3.11.7"
  }
 },
 "nbformat": 4,
 "nbformat_minor": 5
}
